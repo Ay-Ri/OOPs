{
  "nbformat": 4,
  "nbformat_minor": 0,
  "metadata": {
    "colab": {
      "provenance": []
    },
    "kernelspec": {
      "name": "python3",
      "display_name": "Python 3"
    },
    "language_info": {
      "name": "python"
    }
  },
  "cells": [
    {
      "cell_type": "markdown",
      "source": [
        "1.  What is Object-Oriented Programming (OOP)?\n",
        "\n",
        "Ans: Object-Oriented Programming (OOP) is a programming paradigm that organizes software design around objects, which are instances of classes. These objects can contain data (called attributes or properties) and methods (functions associated with the object) that operate on the data.\n",
        "\n",
        "Key Concepts of OOP:\n",
        "\n",
        "Class: A blueprint for creating objects. It defines a data structure and the behaviors (methods) that the objects created from the class will have.\n",
        "\n",
        "Object: An instance of a class. It represents a specific entity with state and behavior.\n",
        "\n",
        "Encapsulation: Bundling of data and methods that operate on that data into a single unit (class), and restricting access to some of the object’s components.\n",
        "\n",
        "Inheritance: Mechanism by which one class can inherit the properties and methods of another, promoting code reuse and hierarchical relationships.\n",
        "\n",
        "Polymorphism: The ability to use a common interface for different data types. It allows different objects to respond differently to the same method call.\n",
        "\n",
        "Abstraction: Hiding complex implementation details and showing only the necessary features of an object.\n"
      ],
      "metadata": {
        "id": "NvpwrTuGytu-"
      }
    },
    {
      "cell_type": "markdown",
      "source": [
        "2. What is a class in OOP?\n",
        "\n",
        "Ans: Object-Oriented Programming (OOP), a class is a blueprint or template for creating objects. It defines:\n",
        "\n",
        "Attributes (also called properties or fields): the data stored in an object.\n",
        "\n",
        "Methods: functions that define the behaviors or actions the object can perform.\n",
        "\n",
        "A class itself does not represent data — it's only the definition. When you create a specific instance of a class, you get an object."
      ],
      "metadata": {
        "id": "8FL8TcPuytrl"
      }
    },
    {
      "cell_type": "markdown",
      "source": [
        "3. What is an object in OOP?\n",
        "\n",
        "Ans: In Object-Oriented Programming (OOP), an object is a specific instance of a class. It represents a real-world entity or concept that contains both data (attributes) and behavior (methods)."
      ],
      "metadata": {
        "id": "lJ-f9VSTytoX"
      }
    },
    {
      "cell_type": "markdown",
      "source": [
        "4.  What is the difference between abstraction and encapsulation?\n",
        "\n",
        "Ans: Abstraction: : Abstraction is the concept of hiding the internal details and showing only the necessary features of an object.: Abstraction is the concept of hiding the internal details and showing only the necessary features of an object.Achieved through abstract classes, interfaces, or simply well-designed class interfaces.\n",
        "\n",
        "  Encapsulation: Encapsulation is the practice of wrapping data and methods that operate on that data into a single unit (class) and restricting access to some components.To protect the internal state of the object and prevent external interference.Achieved using access modifiers (like private, public, protected).\n",
        "\n",
        "\n"
      ],
      "metadata": {
        "id": "bty_HUaQytEA"
      }
    },
    {
      "cell_type": "markdown",
      "source": [
        "5.What are dunder methods in Python?\n",
        "\n",
        "Ans: Dunder methods in Python (short for \"double underscore\" methods, also called magic methods or special methods) are special methods that have double underscores (__) before and after their names. Python uses them to enable the behavior of built-in operations like arithmetic, string representation, comparisons, and object lifecycle (e.g., creation, destruction).\n",
        "Example: __init__, __str__, __len__ etc."
      ],
      "metadata": {
        "id": "6ksB78644CQm"
      }
    },
    {
      "cell_type": "markdown",
      "source": [
        "Practical Questions"
      ],
      "metadata": {
        "id": "jxD4-J-V4fWd"
      }
    },
    {
      "cell_type": "code",
      "execution_count": 1,
      "metadata": {
        "colab": {
          "base_uri": "https://localhost:8080/"
        },
        "id": "K4ByN-PcyrT3",
        "outputId": "b852cf68-605f-4edd-bce5-d0ef1e3e59e4"
      },
      "outputs": [
        {
          "output_type": "stream",
          "name": "stdout",
          "text": [
            "The animal makes a sound.\n",
            "Bark!\n"
          ]
        }
      ],
      "source": [
        "# 1. Create a parent class Animal with a method speak() that prints a generic message. Create a child class Dog that overrides the speak() method to print \"Bark!\".\n",
        "\n",
        "# Parent class\n",
        "class Animal:\n",
        "    def speak(self):\n",
        "        print(\"The animal makes a sound.\")\n",
        "\n",
        "# Child class\n",
        "class Dog(Animal):\n",
        "    def speak(self):\n",
        "        print(\"Bark!\")\n",
        "\n",
        "# Example usage\n",
        "generic_animal = Animal()\n",
        "generic_animal.speak()  # Output: The animal makes a sound.\n",
        "\n",
        "dog = Dog()\n",
        "dog.speak()             # Output: Bark!\n"
      ]
    },
    {
      "cell_type": "code",
      "source": [
        "#  2. Write a program to create an abstract class Shape with a method area(). Derive classes Circle and Rectangle from it and implement the area() method in both\n",
        "\n",
        "from abc import ABC, abstractmethod\n",
        "import math\n",
        "\n",
        "# Abstract base class\n",
        "class Shape(ABC):\n",
        "    @abstractmethod\n",
        "    def area(self):\n",
        "        pass  # Abstract method, must be implemented by subclasses\n",
        "\n",
        "# Circle class\n",
        "class Circle(Shape):\n",
        "    def __init__(self, radius):\n",
        "        self.radius = radius\n",
        "\n",
        "    def area(self):\n",
        "        return math.pi * self.radius ** 2\n",
        "\n",
        "# Rectangle class\n",
        "class Rectangle(Shape):\n",
        "    def __init__(self, width, height):\n",
        "        self.width = width\n",
        "        self.height = height\n",
        "\n",
        "    def area(self):\n",
        "        return self.width * self.height\n",
        "\n",
        "# Example usage\n",
        "circle = Circle(5)\n",
        "rectangle = Rectangle(4, 6)\n",
        "\n",
        "print(f\"Circle area: {circle.area():.2f}\")       # Output: Circle area: 78.54\n",
        "print(f\"Rectangle area: {rectangle.area()}\")     # Output: Rectangle area: 24\n"
      ],
      "metadata": {
        "colab": {
          "base_uri": "https://localhost:8080/"
        },
        "id": "oxame3sm444V",
        "outputId": "9e687f04-c5a3-4ad4-d4da-5f520a700fc5"
      },
      "execution_count": 2,
      "outputs": [
        {
          "output_type": "stream",
          "name": "stdout",
          "text": [
            "Circle area: 78.54\n",
            "Rectangle area: 24\n"
          ]
        }
      ]
    },
    {
      "cell_type": "code",
      "source": [
        "# Implement a multi-level inheritance scenario where a class Vehicle has an attribute type. Derive a class Car and further derive a class ElectricCar that adds a battery attribute\n",
        "\n",
        "# Base class\n",
        "class Vehicle:\n",
        "    def __init__(self, vehicle_type):\n",
        "        self.type = vehicle_type\n",
        "\n",
        "# Derived class\n",
        "class Car(Vehicle):\n",
        "    def __init__(self, vehicle_type, brand):\n",
        "        super().__init__(vehicle_type)\n",
        "        self.brand = brand\n",
        "\n",
        "# Further derived class\n",
        "class ElectricCar(Car):\n",
        "    def __init__(self, vehicle_type, brand, battery_capacity):\n",
        "        super().__init__(vehicle_type, brand)\n",
        "        self.battery = battery_capacity\n",
        "\n",
        "    def display_info(self):\n",
        "        print(f\"Type: {self.type}\")\n",
        "        print(f\"Brand: {self.brand}\")\n",
        "        print(f\"Battery Capacity: {self.battery} kWh\")\n",
        "\n",
        "# Example usage\n",
        "e_car = ElectricCar(\"Electric Vehicle\", \"Tesla\", 75)\n",
        "e_car.display_info()\n"
      ],
      "metadata": {
        "colab": {
          "base_uri": "https://localhost:8080/"
        },
        "id": "WeLC2OEu5COc",
        "outputId": "8dd4e2e2-60e8-49fd-afd9-80db70ee5e1c"
      },
      "execution_count": 3,
      "outputs": [
        {
          "output_type": "stream",
          "name": "stdout",
          "text": [
            "Type: Electric Vehicle\n",
            "Brand: Tesla\n",
            "Battery Capacity: 75 kWh\n"
          ]
        }
      ]
    },
    {
      "cell_type": "code",
      "source": [
        "# 4. Demonstrate polymorphism by creating a base class Bird with a method fly(). Create two derived classes Sparrow and Penguin that override the fly() method.\n",
        "\n",
        "# Base class\n",
        "class Bird:\n",
        "    def fly(self):\n",
        "        print(\"Bird is flying.\")\n",
        "\n",
        "# Derived class\n",
        "class Sparrow(Bird):\n",
        "    def fly(self):\n",
        "        print(\"Sparrow flies high in the sky.\")\n",
        "\n",
        "# Derived class\n",
        "class Penguin(Bird):\n",
        "    def fly(self):\n",
        "        print(\"Penguins can't fly, they swim instead.\")\n",
        "\n",
        "# Function to demonstrate polymorphism\n",
        "def bird_flight(bird):\n",
        "    bird.fly()\n",
        "\n",
        "# Example usage\n",
        "bird1 = Sparrow()\n",
        "bird2 = Penguin()\n",
        "\n",
        "bird_flight(bird1)  # Output: Sparrow flies high in the sky.\n",
        "bird_flight(bird2)  # Output: Penguins can't fly, they swim instead.\n"
      ],
      "metadata": {
        "colab": {
          "base_uri": "https://localhost:8080/"
        },
        "id": "eF6jKif45PvM",
        "outputId": "b4a09425-fa16-40c4-8376-f2108db323c5"
      },
      "execution_count": 4,
      "outputs": [
        {
          "output_type": "stream",
          "name": "stdout",
          "text": [
            "Sparrow flies high in the sky.\n",
            "Penguins can't fly, they swim instead.\n"
          ]
        }
      ]
    },
    {
      "cell_type": "code",
      "source": [
        "# 5. Write a program to demonstrate encapsulation by creating a class BankAccount with private attributes balance and methods to deposit, withdraw, and check balance\n",
        "\n",
        "class BankAccount:\n",
        "    def __init__(self, initial_balance=0):\n",
        "        self.__balance = initial_balance  # Private attribute\n",
        "\n",
        "    def deposit(self, amount):\n",
        "        if amount > 0:\n",
        "            self.__balance += amount\n",
        "            print(f\"Deposited: ${amount}\")\n",
        "        else:\n",
        "            print(\"Deposit amount must be positive.\")\n",
        "\n",
        "    def withdraw(self, amount):\n",
        "        if 0 < amount <= self.__balance:\n",
        "            self.__balance -= amount\n",
        "            print(f\"Withdrew: ${amount}\")\n",
        "        else:\n",
        "            print(\"Insufficient balance or invalid amount.\")\n",
        "\n",
        "    def get_balance(self):\n",
        "        return self.__balance  # Controlled access to private data\n",
        "\n",
        "# Example usage\n",
        "account = BankAccount(100)\n",
        "account.deposit(50)        # Deposited: $50\n",
        "account.withdraw(30)       # Withdrew: $30\n",
        "print(\"Balance:\", account.get_balance())  # Balance: 120\n",
        "\n",
        "# Trying to access the private attribute directly (not recommended)\n",
        "# print(account.__balance)  # This will raise an AttributeError\n"
      ],
      "metadata": {
        "colab": {
          "base_uri": "https://localhost:8080/"
        },
        "id": "Z6etoz395lqW",
        "outputId": "7a15458a-f6e6-4d25-ac99-e178554983bc"
      },
      "execution_count": 5,
      "outputs": [
        {
          "output_type": "stream",
          "name": "stdout",
          "text": [
            "Deposited: $50\n",
            "Withdrew: $30\n",
            "Balance: 120\n"
          ]
        }
      ]
    }
  ]
}